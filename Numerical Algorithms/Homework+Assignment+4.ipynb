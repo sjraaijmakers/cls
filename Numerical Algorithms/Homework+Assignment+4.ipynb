{
 "cells": [
  {
   "cell_type": "markdown",
   "metadata": {},
   "source": [
    "Please **submit this Jupyter notebook through Canvas** no later than **Monday November 19, 12:59**, before the start of the lecture.\n",
    "\n",
    "Homework is in **groups of two**, and you are expected to hand in original work. Work that is copied from another group will not be accepted."
   ]
  },
  {
   "cell_type": "markdown",
   "metadata": {},
   "source": [
    "# Exercise 0\n",
    "Write down the names + student ID of the people in your group."
   ]
  },
  {
   "cell_type": "markdown",
   "metadata": {},
   "source": [
    "Steven Raaijmakers - 10804242\n",
    "Nizar El Mahjoubi - 10642021"
   ]
  },
  {
   "cell_type": "markdown",
   "metadata": {},
   "source": [
    "-------------\n",
    "# Exercise 1\n",
    "# (a)\n",
    "Let $Q$ be a real, square orthogonal matrix. Show that all eigenvalues of $Q$ satisfy $|\\lambda |=1$."
   ]
  },
  {
   "cell_type": "markdown",
   "metadata": {},
   "source": [
    "We have: $Qx$ = $\\lambda x$ \n",
    "\n",
    "from this: $||Qx||^2$ = $||\\lambda x||^2$ = $|\\lambda|^2 ||x||^2$\n",
    "\n",
    "Because Q is a real, square and orthogonal matrix, it follows that:\n",
    "\n",
    "$||Qx||^2$ = $(Qx)^T(Qx)$\n",
    "           = $x^T Q^TQx$\n",
    "           = $x^T x$ = $||x||^2$\n",
    "\n",
    "Replacing what we found in what we showed earlier:  \n",
    "\n",
    "$||x||^2$ =  $|\\lambda|^2 ||x||^2$\n",
    "$\\rightarrow$    $1 = ||\\lambda||^2$\n",
    "\n",
    "We have shown that all eigenvalues of Q satisfy $|\\lambda |=1$."
   ]
  },
  {
   "cell_type": "markdown",
   "metadata": {},
   "source": [
    "\n",
    "# (b)\n",
    "A projection matrix is a matrix $P$ for which $P^2=P$. Find the eigenvalues of a projection matrix."
   ]
  },
  {
   "cell_type": "markdown",
   "metadata": {},
   "source": [
    "Assume we have eigenvalue $\\lambda$ for eigenvector $x$. This must satisfy $\\lambda x = Ax$, but since $A^2 = A$ we can say $\\lambda^2 x = A^2x = \\lambda x = Ax$. Because $x \\neq 0$ we say that $\\lambda^2 = \\lambda$ which is only true if $\\lambda = 0 \\vee 1 \\vee -1$, thus being our eigenvalues."
   ]
  },
  {
   "cell_type": "markdown",
   "metadata": {},
   "source": [
    "-----------\n",
    "# Exercise 2\n",
    "Generate a symmetric $4 × 4$ matrix $A$ randomly, e.g. as below.\n",
    "Implement Rayleigh quotient iteration (Algorithm 4.4) to compute the largest eigenvalue and corresponding eigenvector of $A$. Use a suitable stopping criterion for your iterations (and explain why you think it is suitable). You may use `scipy.linalg.solve`."
   ]
  },
  {
   "cell_type": "code",
   "execution_count": 6,
   "metadata": {},
   "outputs": [],
   "source": [
    "import numpy as np\n",
    "import scipy as sp\n",
    "import scipy.linalg"
   ]
  },
  {
   "cell_type": "code",
   "execution_count": 7,
   "metadata": {},
   "outputs": [],
   "source": [
    "# normalized power iteration\n",
    "def power_iteration(A, x, n=20):\n",
    "    yk = 0\n",
    "    for k in range(1, n+1):\n",
    "        yk = A.dot(x)\n",
    "        x = yk / np.linalg.norm(yk, ord=np.inf)\n",
    "    return x, np.linalg.norm(yk, ord=np.inf)"
   ]
  },
  {
   "cell_type": "code",
   "execution_count": 8,
   "metadata": {},
   "outputs": [],
   "source": [
    "def rayleigh(A, x, n=5):\n",
    "    rayleigh = x\n",
    "    for k in range(1, n+1):\n",
    "        rayleigh = ((x.T).dot(A)).dot(x) / (x.T).dot(x)\n",
    "        tmp = np.linalg.solve(A - (rayleigh * np.identity(4)), x)\n",
    "        x = tmp / np.linalg.norm(tmp, ord=np.inf)\n",
    "    return x, rayleigh"
   ]
  },
  {
   "cell_type": "markdown",
   "metadata": {},
   "source": [
    "The Rayleigh quotient iteration will find the eigenvalue of a matrix $A$, which eigenvector is close to some input vector $X_0$.\n",
    "\n",
    "The power iteration will give us the largest eigenvalue of matrix $A$, but takes more iterations to converge to an eigenvalue in comparison to the rayleigh quotient iteration.\n",
    "\n",
    "In order to find the largest eigenvalue of $A$, we make use of both iterations. Using the power iteration we try to find an approximate of the eigenvector $X_{la}$ of the largest eigenvalue. After finding this approximation we use this $X_{la}$ for our rayleigh iteration to find the exact eigenvalue $\\lambda$ of this approximate eigenvector $X_{la}$."
   ]
  },
  {
   "cell_type": "code",
   "execution_count": 9,
   "metadata": {},
   "outputs": [],
   "source": [
    "def largest_eigenvalue(A, x, n_pi, n_ray):\n",
    "    x, _ = power_iteration(A, x, n=n_pi)\n",
    "    x, l = rayleigh(A, x, n=n_ray)\n",
    "    return x, l"
   ]
  },
  {
   "cell_type": "code",
   "execution_count": 10,
   "metadata": {},
   "outputs": [
    {
     "name": "stdout",
     "output_type": "stream",
     "text": [
      "Absolute value of largest eigenvalue: 3.99956715721\n"
     ]
    }
   ],
   "source": [
    "print(\"Absolute value of largest eigenvalue: \" + str(np.max(np.abs(sp.linalg.eig(A)[0]))))"
   ]
  },
  {
   "cell_type": "code",
   "execution_count": 11,
   "metadata": {},
   "outputs": [
    {
     "name": "stdout",
     "output_type": "stream",
     "text": [
      "Largest eigenvalue -5.20966698242 with eigenvector [ 0.02375138  1.         -0.14369     0.34728686] found, after 7 iterations.\n",
      "\n"
     ]
    }
   ],
   "source": [
    "# random matrix A\n",
    "np.random.seed(1)\n",
    "B = np.random.randn(4,4)\n",
    "A = B+B.T\n",
    "\n",
    "# arbitrary vector\n",
    "x = np.array([1, 1, 1, 1])\n",
    "\n",
    "n_pi = 3\n",
    "n_ray = 4\n",
    "\n",
    "x, l = largest_eigenvalue(A, x, n_pi, n_ray)\n",
    "print(\"Largest eigenvalue \" + str(l) + \" with eigenvector \" + str(x) + \" found, after \" + str(n_pi + n_ray) + \" iterations.\")\n",
    "print(\"\")"
   ]
  },
  {
   "cell_type": "markdown",
   "metadata": {},
   "source": [
    "We denote the amount of iterations in the power iterations by $n_{pi}$ and the amount of iterations in the rayleigh quotient iteration by $n_{ray}$. Since we assume the complexity of both algorithms is the same, we must minimize the total amount of iterations $n = n_{pi} + n_{ray}$.\n",
    "\n",
    "After trying out a lot of different $n's$, we find that $n = 7$ is the minimum amount of total iterations we need in order to find the largest eigenvalue of our matrix $A$."
   ]
  },
  {
   "cell_type": "code",
   "execution_count": 12,
   "metadata": {},
   "outputs": [
    {
     "data": {
      "text/plain": [
       "[<matplotlib.lines.Line2D at 0x7f70217789e8>]"
      ]
     },
     "execution_count": 12,
     "metadata": {},
     "output_type": "execute_result"
    },
    {
     "data": {
      "image/png": "[encoded data removed]",
      "text/plain": [
       "<matplotlib.figure.Figure at 0x7f7021ed0b38>"
      ]
     },
     "metadata": {},
     "output_type": "display_data"
    }
   ],
   "source": [
    "x = np.array([1, 1, 1, 1])\n",
    "\n",
    "ns = np.arange(40, 100)\n",
    "pi = []\n",
    "\n",
    "for n in ns:\n",
    "    _, l = power_iteration(A, x, n)\n",
    "    pi.append(l)\n",
    "\n",
    "plt.xlabel(\"iterations\")\n",
    "plt.ylabel(\"abs eigenvalue\")\n",
    "plt.plot(ns, pi)"
   ]
  },
  {
   "cell_type": "markdown",
   "metadata": {},
   "source": [
    "Using only the power iteration, we see we need $n_{pi} > 55 $ to converge to the eigenvalue. Using a combination of the power iteration AND the rayleigh quotient iteration will save us approximatly 50 iterations."
   ]
  },
  {
   "cell_type": "markdown",
   "metadata": {},
   "source": [
    "-------------\n",
    "# Exercise 3\n",
    "Let $A$ be a $n × n$ tridiagonal matrix that results (up to an overall constant scaling factor) from an\n",
    "$n$-point spatial discretization of the Laplace operator in $1$ spatial dimension. Specifically, all diagonal\n",
    "elements of $A$ have the value $-2$, all elements just below or above the diagonal have value $1$.\n",
    "\n",
    "$${\\displaystyle A = \\left( \\begin{array}{rrrrr} -2 &  1  &  0 &  0& \\ldots \\\\ 1  & -2 & 1 & 0 &\\ldots   \\\\ 0 & 1 & -2 &  1 &\\ldots \\\\ \\vdots & & & & \\ddots \\end{array} \\right) \\,}$$\n",
    "\n",
    "\n",
    "\n",
    "Take $n = 150$. Use `scipy.linalg.qr` to implement Algorithm 4.7 from the book and compute the full eigenvalue spectrum of $A$. Compare against\n",
    "the eigenvalues obtained by the built-in routine `scipy.linalg.eig(A)`. Show in a figure the (approximate)\n",
    "eigenvalues after 10, 100 and 500 QR iterations, as well as the eigenvalues obtained with `eig(A)`.\n"
   ]
  },
  {
   "cell_type": "code",
   "execution_count": 13,
   "metadata": {},
   "outputs": [],
   "source": [
    "from scipy.sparse import diags\n",
    "import matplotlib.pyplot as plt\n",
    "%matplotlib inline\n",
    "plt.rcParams['figure.figsize'] = [10, 6]\n",
    "plt.rcParams['axes.grid'] = True\n",
    "\n",
    "n = 150\n",
    "A = diags([1, -2, 1], [-1, 0, 1], shape=(n, n)).toarray()"
   ]
  },
  {
   "cell_type": "code",
   "execution_count": 14,
   "metadata": {},
   "outputs": [],
   "source": [
    "def qr_iteration(A, n=10):\n",
    "    for k in range(1, n):\n",
    "        q, r = sp.linalg.qr(A)\n",
    "        A = np.dot(r, q)\n",
    "    return np.diag(A)"
   ]
  },
  {
   "cell_type": "code",
   "execution_count": 15,
   "metadata": {},
   "outputs": [],
   "source": [
    "n500 = qr_iteration(A, n=500)\n",
    "n100 = qr_iteration(A, n=100)\n",
    "n10 = qr_iteration(A, n=10)\n",
    "\n",
    "speig = sp.linalg.eig(A)[0]"
   ]
  },
  {
   "cell_type": "code",
   "execution_count": 57,
   "metadata": {},
   "outputs": [
    {
     "name": "stderr",
     "output_type": "stream",
     "text": [
      "/usr/lib/python3/dist-packages/numpy/core/numeric.py:583: ComplexWarning: Casting complex values to real discards the imaginary part\n",
      "  return array(a, dtype, copy=False, order=order, subok=True)\n"
     ]
    },
    {
     "data": {
      "text/plain": [
       "<matplotlib.legend.Legend at 0x7f7020709588>"
      ]
     },
     "execution_count": 57,
     "metadata": {},
     "output_type": "execute_result"
    },
    {
     "data": {
      "image/png": "[encoded data removed]",
      "text/plain": [
       "<matplotlib.figure.Figure at 0x7f7020738198>"
      ]
     },
     "metadata": {},
     "output_type": "display_data"
    }
   ],
   "source": [
    "xs = np.arange(0, len(n500))\n",
    "\n",
    "plt.title(\"QR iteration\")\n",
    "plt.scatter(xs, n500, s=20, marker=\",\", label=\"500 iterations\")\n",
    "plt.scatter(xs, n100, s=20, marker=\",\", label=\"100 iterations\")\n",
    "plt.scatter(xs, n10, s=20, marker=\",\",  label=\"10 iterations\")\n",
    "plt.scatter(xs, speig, marker=\"X\", label=\"scipy approach\", alpha=0.5)\n",
    "plt.ylabel(\"eigenvalue\")\n",
    "plt.legend()"
   ]
  },
  {
   "cell_type": "markdown",
   "metadata": {},
   "source": [
    "We can see that the eigenvalues are approximated the best by the QR iteration of 500 iterations."
   ]
  }
 ],
 "metadata": {
  "kernelspec": {
   "display_name": "Python 3",
   "language": "python",
   "name": "python3"
  },
  "language_info": {
   "codemirror_mode": {
    "name": "ipython",
    "version": 3
   },
   "file_extension": ".py",
   "mimetype": "text/x-python",
   "name": "python",
   "nbconvert_exporter": "python",
   "pygments_lexer": "ipython3",
   "version": "3.6.7"
  },
  "varInspector": {
   "cols": {
    "lenName": 16,
    "lenType": 16,
    "lenVar": 40
   },
   "kernels_config": {
    "python": {
     "delete_cmd_postfix": "",
     "delete_cmd_prefix": "del ",
     "library": "var_list.py",
     "varRefreshCmd": "print(var_dic_list())"
    },
    "r": {
     "delete_cmd_postfix": ") ",
     "delete_cmd_prefix": "rm(",
     "library": "var_list.r",
     "varRefreshCmd": "cat(var_dic_list()) "
    }
   },
   "types_to_exclude": [
    "module",
    "function",
    "builtin_function_or_method",
    "instance",
    "_Feature"
   ],
   "window_display": false
  }
 },
 "nbformat": 4,
 "nbformat_minor": 2
}
