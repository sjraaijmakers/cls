{
 "cells": [
  {
   "cell_type": "markdown",
   "metadata": {},
   "source": [
    "Please **submit this Jupyter notebook through Canvas** no later than **Monday November 12, 12:59**, before the start of the lecture.\n",
    "\n",
    "Homework is in **groups of two**, and you are expected to hand in original work. Work that is copied from another group will not be accepted."
   ]
  },
  {
   "cell_type": "markdown",
   "metadata": {},
   "source": [
    "# Exercise 0\n",
    "Write down the names + student ID of the people in your group."
   ]
  },
  {
   "cell_type": "markdown",
   "metadata": {},
   "source": [
    "Steven Raaijmakers - 10804242\n",
    "Nizar El Mahjoubi - 10642021"
   ]
  },
  {
   "cell_type": "markdown",
   "metadata": {},
   "source": [
    "-----\n",
    "# Exercise 1"
   ]
  },
  {
   "cell_type": "markdown",
   "metadata": {},
   "source": [
    "## (a)\n",
    "Let $A$ be the matrix $\\begin{bmatrix} 1 & -1 & \\alpha \\\\ 2 & 2 & 1 \\\\ 0 & \\alpha & -3/2 \\end{bmatrix}$. For which values of $\\alpha$ is $A$ singular?"
   ]
  },
  {
   "cell_type": "markdown",
   "metadata": {},
   "source": [
    "We know that if the det(A)=0, then the matrix A is singular. For the values of $\\alpha$ = -1.5 or $\\alpha$ = 2, the determinant of A: det(A) = 0 so the matrix is singular. "
   ]
  },
  {
   "cell_type": "markdown",
   "metadata": {},
   "source": [
    "## (b)\n",
    "Consider the following linear system of equations:\n",
    "$$\n",
    "\\begin{align*}\n",
    "2x + y + z & = 3 \\\\\n",
    "2x - y + 3z &= 5 \\\\\n",
    "-2x + \\alpha y + 3z &= 1.\n",
    "\\end{align*}\n",
    "$$\n",
    "For what values of $\\alpha$ does this system have an infinite number of solutions?"
   ]
  },
  {
   "cell_type": "markdown",
   "metadata": {},
   "source": [
    "For the value $\\alpha$ = -5, the system is singular. By substituting this value in the linear systems of equations, we find that for x=0, y=1 and z=2, the system has a solution. Actually, for any value of x (with y=1-x and z=2-x), the system has a solution (therefore, the system has an infinte number of solutions). "
   ]
  },
  {
   "cell_type": "markdown",
   "metadata": {},
   "source": [
    "## (c)\n",
    "Denote the columns of an $n \\times n$ matrix $A$ as $A_k$ for $k=1,\\ldots,n$. We define the function $||A||_* = \\max_k ||A_k||_2$. Show that $||A||_*$ is a norm, in that it satisfies the first three properties of a matrix norm (cf. §2.3.2)."
   ]
  },
  {
   "cell_type": "markdown",
   "metadata": {},
   "source": [
    "There are three properties that we want to prove in order to show that $||A||_*$ is a norm:\n",
    "\n",
    "### 1 : $||A||_*$ > 0 for any A is nonzero\n",
    "\n",
    "Since $||A||_*$ is defined as $\\max_k ||A_k||_2$, if A is non-zero, the function will return a result larger than 0.\n",
    "\n",
    "### 2 : $||\\gamma \\cdot A ||_*$ = $||\\gamma||\\cdot||A||_*$ for any scalar $\\gamma$\n",
    "\n",
    "$||\\gamma \\cdot A ||_*$ = $\\max_k ||\\gamma \\cdot A_k||_2$\n",
    "\n",
    "$||\\gamma \\cdot A ||_*$ = $\\gamma \\max_k ||A_k||_2$\n",
    "\n",
    "$||\\gamma \\cdot A ||_*$ = $||\\gamma||\\cdot||A||_*$\n",
    "\n",
    "\n",
    "### 3 : $||A + B||_*$ ≤ $||A||_*$  + $||B||_*$\n",
    "\n",
    "$||A + B||_*$ = $\\max_k (||A_k + B_k||_2$)\n",
    "\n",
    "$||A + B||_*$ = $\\max_k (\\sum_i^n |a_i + b_i|_2)^\\frac{1}{2}$\n",
    "              \n",
    "$||A + B||_*$ ≤ $\\max_k ((\\sum_i^n |a_i|_2)^\\frac{1}{2}$ + $\\max_k (\\sum_i^n |b_i|_2)^\\frac{1}{2})$\n"
   ]
  },
  {
   "cell_type": "markdown",
   "metadata": {},
   "source": [
    "----\n",
    "# Exercise 2\n",
    "For solving linear systems such as $Ax = b$, it is unnecessary (and often unstable) to compute the inverse $A^{-1}$. Nonetheless, there can be situations where it is useful to compute $A^{-1}$ explicitly. One way to do so is by using the LU-decomposition of $A$."
   ]
  },
  {
   "cell_type": "code",
   "execution_count": 2,
   "metadata": {},
   "outputs": [],
   "source": [
    "import scipy.linalg\n",
    "import numpy as np\n",
    "\n",
    "import matplotlib.pyplot as plt\n",
    "%matplotlib inline\n",
    "plt.rcParams['figure.figsize'] = [10, 6]\n",
    "plt.rcParams['axes.grid'] = True"
   ]
  },
  {
   "cell_type": "markdown",
   "metadata": {},
   "source": [
    "## (a)\n",
    "Write an algorithm to compute $A^{-1}$ for a non-singular matrix $A$ using its LU-decomposition. You can use `scipy.linalg.lu` (which returns an LU-decomposition with _partial pivoting_, i.e., with a permutation matrix $P$) and the other `scipy.linalg.lu_*` functions, but not `scipy.linalg.inv` (or other methods for computing matrix inverses directly)."
   ]
  },
  {
   "cell_type": "code",
   "execution_count": 4,
   "metadata": {},
   "outputs": [],
   "source": [
    "def inverse_lu(a):\n",
    "    p, l, u = scipy.linalg.lu(a)\n",
    "    \n",
    "    n = a.shape[0]\n",
    "    \n",
    "    c = p.T # inverse of permutation matrix\n",
    "    \n",
    "    inverse = np.empty((n, n))\n",
    "    \n",
    "    for column in range(n):\n",
    "        z = scipy.linalg.solve_triangular(l, c[:,column], lower=True)\n",
    "        x = scipy.linalg.solve_triangular(u, z)\n",
    "        inverse[:,column] = x    \n",
    "    \n",
    "    return inverse "
   ]
  },
  {
   "cell_type": "code",
   "execution_count": 3,
   "metadata": {},
   "outputs": [
    {
     "name": "stdout",
     "output_type": "stream",
     "text": [
      "[[ 0.04761905 -0.08333333  0.03571429]\n",
      " [-0.95238095  1.41666667 -0.46428571]\n",
      " [ 4.57142857 -5.          1.42857143]]\n"
     ]
    }
   ],
   "source": [
    "a = np.array([[25, 5, 1], [64, 8, 1], [144, 12, 1]])\n",
    "inverse = inverse_lu(a)\n",
    "print(inverse)"
   ]
  },
  {
   "cell_type": "markdown",
   "metadata": {},
   "source": [
    "## (b)\n",
    "What is the computational complexity of your algorithm, given that the input matrix has size $n \\times n$?"
   ]
  },
  {
   "cell_type": "markdown",
   "metadata": {},
   "source": [
    "$O(n^3)$"
   ]
  },
  {
   "cell_type": "markdown",
   "metadata": {},
   "source": [
    "## (c)\n",
    "Apply your Python code to compute the inverse of the Hilbert matrix $H_n$ for $n=1, \\ldots, 12$ (see https://en.wikipedia.org/wiki/Hilbert_matrix) -- you can use `scipy.linalg.hilbert`. This matrix is _very_ ill-conditioned, so computing its inverse is very hard for large $n$.\n",
    "\n",
    "Compare the inverse with the \"true\" inverse given by `scipy.linalg.invhilbert`. Output a (`plt.semilogy`) graph showing how the $\\infty$-norm of their difference progresses for $n$."
   ]
  },
  {
   "cell_type": "code",
   "execution_count": 12,
   "metadata": {},
   "outputs": [
    {
     "data": {
      "text/plain": [
       "<matplotlib.legend.Legend at 0x7fea4d766438>"
      ]
     },
     "execution_count": 12,
     "metadata": {},
     "output_type": "execute_result"
    },
    {
     "data": {
      "image/png": "[encoded data removed]",
      "text/plain": [
       "<matplotlib.figure.Figure at 0x7fea4d7bf4e0>"
      ]
     },
     "metadata": {},
     "output_type": "display_data"
    }
   ],
   "source": [
    "ns = np.arange(1, 12)\n",
    "errors = []\n",
    "\n",
    "for n in ns:\n",
    "    hilbert = scipy.linalg.hilbert(n)\n",
    "    \n",
    "    hilbert_inverse = scipy.linalg.invhilbert(n)\n",
    "    lu_inverse = inverse_lu(hilbert)\n",
    "    \n",
    "    error = scipy.linalg.norm(hilbert_inverse - lu_inverse, ord=np.inf)\n",
    "    errors.append(error)\n",
    "    \n",
    "plt.semilogy(ns, errors, label=\"Difference hilbert inverse and lu inverse\")\n",
    "plt.xlabel(\"n\")\n",
    "plt.ylabel(\"infinity norm\")\n",
    "plt.legend()"
   ]
  },
  {
   "cell_type": "markdown",
   "metadata": {},
   "source": [
    "## (d)\n",
    "It is known that the $2$-condition number $cond_2(H_n)$ of the Hilbert matrix grows like $\\mathcal O\\left(\\frac{(1+\\sqrt{2})^{4n}}{\\sqrt{n}}\\right)$. Does the $\\infty$-condition number (defined in Example 2.5) of $H_n$ grow in a similar way?\n",
    "For the matrix inverse, try both your own matrix inversion routine, and `scipy.linalg.invhilbert`. Output a (`plt.semilogy`) graph showing your results."
   ]
  },
  {
   "cell_type": "code",
   "execution_count": 13,
   "metadata": {},
   "outputs": [],
   "source": [
    "def get_cn(A, A_inv, n):\n",
    "    return scipy.linalg.norm(A, ord=n) * scipy.linalg.norm(A_inv, ord=n)"
   ]
  },
  {
   "cell_type": "code",
   "execution_count": 15,
   "metadata": {},
   "outputs": [
    {
     "data": {
      "text/plain": [
       "<matplotlib.legend.Legend at 0x7fea4d6ddef0>"
      ]
     },
     "execution_count": 15,
     "metadata": {},
     "output_type": "execute_result"
    },
    {
     "data": {
      "image/png": "[encoded data removed]",
      "text/plain": [
       "<matplotlib.figure.Figure at 0x7fea4d770978>"
      ]
     },
     "metadata": {},
     "output_type": "display_data"
    }
   ],
   "source": [
    "ns = np.arange(1, 30)\n",
    "\n",
    "cn_hilb = []\n",
    "cn_lu = []\n",
    "\n",
    "two_cn_hilb = []\n",
    "two_cn_lu = []\n",
    "\n",
    "for n in ns:\n",
    "    hilbert = scipy.linalg.hilbert(n)\n",
    "    \n",
    "    # hilbert inverse\n",
    "    hilbert_inverse = scipy.linalg.invhilbert(n)\n",
    "    cn_hilb.append(get_cn(hilbert, hilbert_inverse, np.inf))\n",
    "    two_cn_hilb.append(get_cn(hilbert, hilbert_inverse, 2))\n",
    "    \n",
    "     # lu inverse\n",
    "    lu_inverse = inverse_lu(hilbert)\n",
    "    cn_lu.append(get_cn(hilbert, lu_inverse , np.inf))\n",
    "    two_cn_lu.append(get_cn(hilbert, lu_inverse, 2))\n",
    "\n",
    "plt.semilogy(ns, cn_hilb, \"r\", label=\"Hilbert inverse (infinity condition)\")\n",
    "plt.semilogy(ns, cn_lu, \"g\", label=\"LU inverse (infinity-condition)\")\n",
    "plt.semilogy(ns, two_cn_hilb, \"r--\", alpha=0.3, label=\"Hilbert inverse (2-condition)\")\n",
    "plt.semilogy(ns, two_cn_lu, \"g--\", alpha=0.3, label=\"LU inverse (2-condition)\")\n",
    "plt.xlabel(\"n\")\n",
    "plt.ylabel(\"condition number\")\n",
    "plt.legend()\n"
   ]
  },
  {
   "cell_type": "markdown",
   "metadata": {},
   "source": [
    "To get the condition number of a matrix $A$ we must know its inverse $A^{-1}$. Since A is a hilbert matrix, we can use scipy's $hilbert\\_inverse$ to get $A^{-1}$. Another way to get $A^{-1}$ is using its LU decomposition. In the figure we can see both approaches, for the $\\infty$-condition number and the 2-condition number. \n",
    "\n",
    "This shows us that the 2-condition number and the $\\infty$-condition number are growing in a similar way for $n < 13$. However we do see a difference in the approaches of getting the inverse matrix for $n >= 13$, where we can see that the condition numbers using the LU inverse are growing in a different way."
   ]
  },
  {
   "cell_type": "code",
   "execution_count": 19,
   "metadata": {},
   "outputs": [
    {
     "data": {
      "text/plain": [
       "2.0"
      ]
     },
     "execution_count": 19,
     "metadata": {},
     "output_type": "execute_result"
    }
   ],
   "source": [
    "a = np.array([1, 1, 1, 1])\n",
    "\n",
    "scipy.linalg.norm(A, ord=2)"
   ]
  },
  {
   "cell_type": "code",
   "execution_count": 49,
   "metadata": {},
   "outputs": [],
   "source": [
    "v = np.array([[-1], [1], [1], [1]])"
   ]
  },
  {
   "cell_type": "code",
   "execution_count": 56,
   "metadata": {},
   "outputs": [
    {
     "ename": "ValueError",
     "evalue": "operands could not be broadcast together with shapes (2,) (4,) ",
     "output_type": "error",
     "traceback": [
      "\u001b[0;31m---------------------------------------------------------------------------\u001b[0m",
      "\u001b[0;31mValueError\u001b[0m                                Traceback (most recent call last)",
      "\u001b[0;32m<ipython-input-56-246754f20064>\u001b[0m in \u001b[0;36m<module>\u001b[0;34m()\u001b[0m\n\u001b[0;32m----> 1\u001b[0;31m \u001b[0mnp\u001b[0m\u001b[0;34m.\u001b[0m\u001b[0midentity\u001b[0m\u001b[0;34m(\u001b[0m\u001b[0;36m4\u001b[0m\u001b[0;34m)\u001b[0m \u001b[0;34m-\u001b[0m \u001b[0;34m(\u001b[0m\u001b[0;36m2\u001b[0m \u001b[0;34m*\u001b[0m \u001b[0;34m(\u001b[0m\u001b[0mnp\u001b[0m\u001b[0;34m.\u001b[0m\u001b[0mmatmul\u001b[0m\u001b[0;34m(\u001b[0m\u001b[0mv\u001b[0m\u001b[0;34m,\u001b[0m \u001b[0;34m(\u001b[0m\u001b[0mv\u001b[0m\u001b[0;34m.\u001b[0m\u001b[0mT\u001b[0m\u001b[0;34m)\u001b[0m\u001b[0;34m)\u001b[0m \u001b[0;34m/\u001b[0m \u001b[0mnp\u001b[0m\u001b[0;34m.\u001b[0m\u001b[0mmatmul\u001b[0m\u001b[0;34m(\u001b[0m\u001b[0;34m(\u001b[0m\u001b[0mv\u001b[0m\u001b[0;34m.\u001b[0m\u001b[0mT\u001b[0m\u001b[0;34m,\u001b[0m \u001b[0mv\u001b[0m\u001b[0;34m)\u001b[0m \u001b[0;34m*\u001b[0m \u001b[0ma\u001b[0m\u001b[0;34m)\u001b[0m\u001b[0;34m)\u001b[0m\u001b[0;34m)\u001b[0m\u001b[0;34m\u001b[0m\u001b[0m\n\u001b[0m",
      "\u001b[0;31mValueError\u001b[0m: operands could not be broadcast together with shapes (2,) (4,) "
     ]
    }
   ],
   "source": [
    "np.identity(4) - (2 * (np.matmul(v, (v.T)) / np.matmul((v.T, v) * a)))"
   ]
  },
  {
   "cell_type": "code",
   "execution_count": 51,
   "metadata": {},
   "outputs": [
    {
     "data": {
      "text/plain": [
       "array([[ 1, -1, -1, -1],\n",
       "       [-1,  1,  1,  1],\n",
       "       [-1,  1,  1,  1],\n",
       "       [-1,  1,  1,  1]])"
      ]
     },
     "execution_count": 51,
     "metadata": {},
     "output_type": "execute_result"
    }
   ],
   "source": [
    "v * v.T"
   ]
  },
  {
   "cell_type": "code",
   "execution_count": 45,
   "metadata": {},
   "outputs": [],
   "source": [
    "v = [-1, 1, 1, 1]\n",
    "vt = [[-1], [1], [1], [1]]"
   ]
  },
  {
   "cell_type": "code",
   "execution_count": 47,
   "metadata": {},
   "outputs": [
    {
     "ename": "ValueError",
     "evalue": "shapes (4,1) and (4,) not aligned: 1 (dim 1) != 4 (dim 0)",
     "output_type": "error",
     "traceback": [
      "\u001b[0;31m---------------------------------------------------------------------------\u001b[0m",
      "\u001b[0;31mValueError\u001b[0m                                Traceback (most recent call last)",
      "\u001b[0;32m<ipython-input-47-9a78cf66d63d>\u001b[0m in \u001b[0;36m<module>\u001b[0;34m()\u001b[0m\n\u001b[0;32m----> 1\u001b[0;31m \u001b[0mnp\u001b[0m\u001b[0;34m.\u001b[0m\u001b[0mmatmul\u001b[0m\u001b[0;34m(\u001b[0m\u001b[0mvt\u001b[0m\u001b[0;34m,\u001b[0m \u001b[0mv\u001b[0m\u001b[0;34m)\u001b[0m\u001b[0;34m\u001b[0m\u001b[0m\n\u001b[0m",
      "\u001b[0;31mValueError\u001b[0m: shapes (4,1) and (4,) not aligned: 1 (dim 1) != 4 (dim 0)"
     ]
    }
   ],
   "source": [
    "np.matmul(vt, v)"
   ]
  },
  {
   "cell_type": "code",
   "execution_count": 58,
   "metadata": {},
   "outputs": [
    {
     "data": {
      "text/plain": [
       "array([[-1],\n",
       "       [ 1],\n",
       "       [ 1],\n",
       "       [ 1]])"
      ]
     },
     "execution_count": 58,
     "metadata": {},
     "output_type": "execute_result"
    }
   ],
   "source": [
    "v"
   ]
  },
  {
   "cell_type": "code",
   "execution_count": null,
   "metadata": {},
   "outputs": [],
   "source": []
  }
 ],
 "metadata": {
  "kernelspec": {
   "display_name": "Python 3",
   "language": "python",
   "name": "python3"
  },
  "language_info": {
   "codemirror_mode": {
    "name": "ipython",
    "version": 3
   },
   "file_extension": ".py",
   "mimetype": "text/x-python",
   "name": "python",
   "nbconvert_exporter": "python",
   "pygments_lexer": "ipython3",
   "version": "3.6.7"
  },
  "varInspector": {
   "cols": {
    "lenName": 16,
    "lenType": 16,
    "lenVar": 40
   },
   "kernels_config": {
    "python": {
     "delete_cmd_postfix": "",
     "delete_cmd_prefix": "del ",
     "library": "var_list.py",
     "varRefreshCmd": "print(var_dic_list())"
    },
    "r": {
     "delete_cmd_postfix": ") ",
     "delete_cmd_prefix": "rm(",
     "library": "var_list.r",
     "varRefreshCmd": "cat(var_dic_list()) "
    }
   },
   "types_to_exclude": [
    "module",
    "function",
    "builtin_function_or_method",
    "instance",
    "_Feature"
   ],
   "window_display": false
  }
 },
 "nbformat": 4,
 "nbformat_minor": 2
}
