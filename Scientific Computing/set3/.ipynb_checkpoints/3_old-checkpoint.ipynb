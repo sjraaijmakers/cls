{
 "cells": [
  {
   "cell_type": "code",
   "execution_count": 3,
   "metadata": {},
   "outputs": [
    {
     "ename": "SyntaxError",
     "evalue": "unexpected character after line continuation character (<ipython-input-3-f8c327467a10>, line 35)",
     "output_type": "error",
     "traceback": [
      "\u001b[0;36m  File \u001b[0;32m\"<ipython-input-3-f8c327467a10>\"\u001b[0;36m, line \u001b[0;32m35\u001b[0m\n\u001b[0;31m    \\frac{\\delta t D}{\\delta x^2}\u001b[0m\n\u001b[0m                                 ^\u001b[0m\n\u001b[0;31mSyntaxError\u001b[0m\u001b[0;31m:\u001b[0m unexpected character after line continuation character\n"
     ]
    }
   ],
   "source": [
    "\n",
    "\n",
    "##Jacobi\n",
    "for i in range(N):\n",
    "        for j in range(N):\n",
    "\n",
    "            if i == 0: #c[i,j, 0] == source:\n",
    "                c[i,j, n+1] = 1\n",
    "            elif i == N-1: #c[i,j, 0] == sink:\n",
    "                c[i,j,n+1] = 0\n",
    "\n",
    "            else:\n",
    "                if j == 0:               # periodic boundaries\n",
    "                    west = c[i,N-1,n]\n",
    "                else:\n",
    "                    west = c[i,j-1,n]\n",
    "\n",
    "                if j == N-1:\n",
    "                    east = c[i,0,n]\n",
    "                else:\n",
    "                    east = c[i,j+1,n]\n",
    "\n",
    "                if i == 1:              # fixed boundaries\n",
    "                    north = 1\n",
    "                else:\n",
    "                    north = c[i-1,j,n]\n",
    "                if i == N-2:              \n",
    "                    south = 0\n",
    "                else:\n",
    "                    south = c[i+1,j,n]\n",
    "\n",
    "                c[i,j,n+1] = 0.25 * (west + east + south + north)\n",
    "            delta = abs(c[i,j,n+1]- c[i,j,n]) #/* stopping criterion */\n",
    "            \n",
    "            \\frac{\\delta t D}{\\delta x^2}"
   ]
  },
  {
   "cell_type": "code",
   "execution_count": 4,
   "metadata": {},
   "outputs": [
    {
     "name": "stdout",
     "output_type": "stream",
     "text": [
      "[[ 2. -1.  0.]\n",
      " [-1.  2. -1.]\n",
      " [ 0. -1.  2.]]\n",
      "[[ 1.  0.  0.  0.  0.  0.  0.  0.  0.]\n",
      " [ 1.  0.  0.  0.  0.  0.  0.  0.  0.]\n",
      " [ 1.  0.  0.  0.  0.  0.  0.  0.  0.]]\n"
     ]
    },
    {
     "data": {
      "text/plain": [
       "array([[ 1.5,  0. ,  0. ,  0. ,  0. ,  0. ,  0. ,  0. ,  0. ],\n",
       "       [ 2. ,  0. ,  0. ,  0. ,  0. ,  0. ,  0. ,  0. ,  0. ],\n",
       "       [ 1.5,  0. ,  0. ,  0. ,  0. ,  0. ,  0. ,  0. ,  0. ]])"
      ]
     },
     "execution_count": 4,
     "metadata": {},
     "output_type": "execute_result"
    }
   ],
   "source": [
    "import numpy as np\n",
    "import scipy.linalg\n",
    "\n",
    "N = 3\n",
    "c = np.zeros((N,9))\n",
    "c[:,0] = 1\n",
    "M = np.zeros((N,N))\n",
    "np.fill_diagonal(M, 2)\n",
    "for i in range(1,N):\n",
    "    M[(i-1),i] = -1\n",
    "    M[i,(i-1)] = -1\n",
    "M[0,1] = -1\n",
    "# M[N-1,N-2] = -1\n",
    "# M[0,0] = 1\n",
    "M[1,0] = -1\n",
    "# M[N-1,N-1] = 1\n",
    "print(M)\n",
    "print(c)\n",
    "scipy.linalg.solve(M, c)"
   ]
  },
  {
   "cell_type": "code",
   "execution_count": 5,
   "metadata": {},
   "outputs": [
    {
     "name": "stdout",
     "output_type": "stream",
     "text": [
      "[[ 4. -1.  0. -1.  0.  0.  0.  0.  0.]\n",
      " [-1.  4. -1.  0. -1.  0.  0.  0.  0.]\n",
      " [ 0. -1.  4.  0.  0. -1.  0.  0.  0.]\n",
      " [-1.  0.  0.  4. -1.  0. -1.  0.  0.]\n",
      " [ 0. -1.  0. -1.  4. -1.  0. -1.  0.]\n",
      " [ 0.  0. -1.  0. -1.  4.  0.  0. -1.]\n",
      " [ 0.  0.  0. -1.  0.  0.  4. -1.  0.]\n",
      " [ 0.  0.  0.  0. -1.  0. -1.  4. -1.]\n",
      " [ 0.  0.  0.  0.  0. -1.  0. -1.  4.]]\n"
     ]
    }
   ],
   "source": [
    "# Make the matrix M: with Block structure and diagonal\n",
    "M = np.zeros((N**2,N**2))\n",
    "np.fill_diagonal(M, 4)\n",
    "# first block\n",
    "for i in range(N-1):\n",
    "    M[i,i+1] = -1\n",
    "    M[i+1,i] = -1\n",
    "\n",
    "# rest of the blocks\n",
    "for i in range(N,N**2):\n",
    "    if i%N != 0:\n",
    "        M[(i-1),i] = -1\n",
    "        M[i,(i-1)] = -1\n",
    "    M[i,(i-N)] = -1\n",
    "    M[(i-N),i] = -1\n",
    "print(M)"
   ]
  },
  {
   "cell_type": "code",
   "execution_count": 7,
   "metadata": {},
   "outputs": [
    {
     "name": "stdout",
     "output_type": "stream",
     "text": [
      "21 65\n",
      "24.210379813000003\n"
     ]
    },
    {
     "data": {
      "image/png": "[encoded data removed]",
      "text/plain": [
       "<Figure size 432x288 with 1 Axes>"
      ]
     },
     "metadata": {},
     "output_type": "display_data"
    }
   ],
   "source": [
    "import numpy as np\n",
    "import scipy.linalg\n",
    "import scipy.sparse.linalg\n",
    "import matplotlib.pyplot as plt\n",
    "import math\n",
    "import timeit\n",
    "\n",
    "start_time = timeit.default_timer()\n",
    "N = 99\n",
    "m = N+2\n",
    "u = np.zeros((m,m))\n",
    "source = np.zeros((m,m))\n",
    "v = np.zeros((m,m))\n",
    "mid = m/2\n",
    "center = [m/2,m/2]\n",
    "edge = (N)-m/2\n",
    "dist_gridpoint = 2 / edge \n",
    "\n",
    "# At the point (0.6, 1.2) a source is present\n",
    "# convert that point to the matrix structure based on the distance of a gridpoint\n",
    "source[int(m/2 - np.round(1.2/dist_gridpoint, 0)), int(m/2 + np.round(0.6/dist_gridpoint, 0))] = 1\n",
    "\n",
    "print(int(m/2 - np.round(1.2/dist_gridpoint, 0)), int(m/2 + np.round(0.6/dist_gridpoint, 0)))\n",
    "\n",
    "## make a circle on the grid (v)\n",
    "for i in range(N):\n",
    "    for j in range(N):\n",
    "        if math.sqrt(abs(center[0] - ((i+1)+0.5))**2 + abs(center[1] - ((j+1)+0.5))**2) > int(m/2)-1:\n",
    "            v[i+1,j+1] = 1\n",
    "\n",
    "\n",
    "\n",
    "\n",
    "# Make the matrix M: with Block structure and diagonal\n",
    "M = np.zeros((N**2,N**2))\n",
    "np.fill_diagonal(M, 4)\n",
    "# first block\n",
    "for i in range(N-1):\n",
    "    M[i,i+1] = -1\n",
    "    M[i+1,i] = -1\n",
    "\n",
    "# rest of the blocks\n",
    "for i in range(N,N**2):\n",
    "    if i%N != 0:\n",
    "        M[(i-1),i] = -1\n",
    "        M[i,(i-1)] = -1\n",
    "    M[i,(i-N)] = -1\n",
    "    M[(i-N),i] = -1\n",
    "\n",
    "# get the target b vector, with current sums of knowns, and check for source and boundaries\n",
    "b = np.zeros((N**2))\n",
    "row = 0\n",
    "for i in range(N):\n",
    "    for j in range(N):\n",
    "        b[row+j] = sum([u[i,j+1], u[i+1,j], u[i+2,j+1], u[i+1,j+2]])\n",
    "        if source[i+1,j+1] == 1:\n",
    "            M[row+j] = 0\n",
    "            M[row+j][row+j] = 1\n",
    "            b[row+j] = 1\n",
    "            \n",
    "        if v[i+1,j+1] == 1:\n",
    "            M[row+j] = 0\n",
    "            M[row+j][row+j] = 1\n",
    "    row += m-2\n",
    "    \n",
    "# make sparse matrix, and solve to get c vector\n",
    "# M = scipy.sparse.csr_matrix(M) \n",
    "c = scipy.linalg.solve(M, b)\n",
    "# c = scipy.sparse.linalg.spsolve(M, b)\n",
    "\n",
    "# convert vector to grid\n",
    "row = 0\n",
    "for i in range(N):\n",
    "    for j in range(N):\n",
    "        u[i+1,j+1] = c[row+j] \n",
    "    row += m-2\n",
    "\n",
    "elapsed = timeit.default_timer() - start_time\n",
    "print(elapsed)\n",
    "plt.imshow(u)\n",
    "plt.tick_params(\n",
    "    axis='x',          # changes apply to the x-axis\n",
    "    which='both',      # both major and minor ticks are affected\n",
    "    bottom=False,      # ticks along the bottom edge are off\n",
    "    top=False,         # ticks along the top edge are off\n",
    "    labelbottom=False) # labels along the bottom edge are off\n",
    "plt.tick_params(\n",
    "    axis='y',          # changes apply to the x-axis\n",
    "    which='both',      # both major and minor ticks are affected\n",
    "    left=False,      # ticks along the bottom edge are off\n",
    "    right=False,         # ticks along the top edge are off\n",
    "    labelleft=False) # labels along the bottom edge are off\n",
    "plt.show()"
   ]
  },
  {
   "cell_type": "code",
   "execution_count": 359,
   "metadata": {},
   "outputs": [
    {
     "data": {
      "image/png": "[encoded data removed]",
      "text/plain": [
       "<matplotlib.figure.Figure at 0x614481e48>"
      ]
     },
     "metadata": {},
     "output_type": "display_data"
    }
   ],
   "source": [
    "plt.imshow(v, cmap = \"binary\", interpolation = 'spline36')\n",
    "plt.tick_params(\n",
    "    axis='x',          # changes apply to the x-axis\n",
    "    which='both',      # both major and minor ticks are affected\n",
    "    bottom=False,      # ticks along the bottom edge are off\n",
    "    top=False,         # ticks along the top edge are off\n",
    "    labelbottom=False) # labels along the bottom edge are off\n",
    "plt.tick_params(\n",
    "    axis='y',          # changes apply to the x-axis\n",
    "    which='both',      # both major and minor ticks are affected\n",
    "    left=False,      # ticks along the bottom edge are off\n",
    "    right=False,         # ticks along the top edge are off\n",
    "    labelleft=False) # labels along the bottom edge are off\n",
    "plt.show()"
   ]
  },
  {
   "cell_type": "code",
   "execution_count": 281,
   "metadata": {},
   "outputs": [
    {
     "name": "stdout",
     "output_type": "stream",
     "text": [
      "10.5\n",
      "[10.5, 10.5]\n",
      "3.141592653589793\n"
     ]
    },
    {
     "data": {
      "image/png": "[encoded data removed]",
      "text/plain": [
       "<matplotlib.figure.Figure at 0x615042198>"
      ]
     },
     "metadata": {},
     "output_type": "display_data"
    }
   ],
   "source": [
    "N = 19**2\n",
    "m = int(np.sqrt(N)+2)\n",
    "u = np.zeros((m,m))\n",
    "\n",
    "\n",
    "v = np.ones((m,m))\n",
    "mid = m/2\n",
    "print(mid)\n",
    "import math\n",
    "circle= True\n",
    "\n",
    "\n",
    "center = [m/2,m/2]\n",
    "\n",
    "for i in range(m):\n",
    "    for j in range(m):\n",
    "        if math.sqrt(abs(center[0] - (i+0.5))**2 + abs(center[1] - (j+0.5))**2) > int(m/2):\n",
    "            v[i,j] = 0\n",
    "\n",
    "\n",
    "# plt.imshow(v)\n",
    "# plt.colorbar()\n",
    "# plt.show()"
   ]
  },
  {
   "cell_type": "code",
   "execution_count": 53,
   "metadata": {},
   "outputs": [
    {
     "name": "stdout",
     "output_type": "stream",
     "text": [
      "[[1. 0. 0. 0. 0. 0. 0. 0. 0. 0.]\n",
      " [0. 0. 0. 0. 0. 0. 0. 0. 0. 0.]\n",
      " [0. 0. 0. 0. 0. 0. 0. 0. 0. 0.]\n",
      " [0. 0. 0. 0. 0. 0. 0. 0. 0. 0.]\n",
      " [0. 0. 0. 0. 0. 0. 0. 0. 0. 0.]\n",
      " [0. 0. 0. 0. 0. 0. 0. 0. 0. 0.]\n",
      " [0. 0. 0. 0. 0. 0. 0. 0. 0. 0.]\n",
      " [0. 0. 0. 0. 0. 0. 0. 0. 0. 0.]\n",
      " [0. 0. 0. 0. 0. 0. 0. 0. 0. 0.]\n",
      " [0. 0. 0. 0. 0. 0. 0. 0. 0. 0.]]\n",
      "[0.90909091 0.81818182 0.72727273 0.63636364 0.54545455 0.45454545\n",
      " 0.36363636 0.27272727 0.18181818 0.09090909]\n",
      "[0. 0. 0. 0. 0. 0. 0. 0. 0. 0.]\n",
      "[0. 0. 0. 0. 0. 0. 0. 0. 0. 0.]\n",
      "[0. 0. 0. 0. 0. 0. 0. 0. 0. 0.]\n",
      "[0. 0. 0. 0. 0. 0. 0. 0. 0. 0.]\n",
      "[0. 0. 0. 0. 0. 0. 0. 0. 0. 0.]\n",
      "[0. 0. 0. 0. 0. 0. 0. 0. 0. 0.]\n",
      "[0. 0. 0. 0. 0. 0. 0. 0. 0. 0.]\n",
      "[0. 0. 0. 0. 0. 0. 0. 0. 0. 0.]\n",
      "[[0. 0. 0. 0. 0. 0. 0. 0. 0. 0.]\n",
      " [0. 0. 0. 0. 0. 0. 0. 0. 0. 0.]\n",
      " [0. 0. 0. 0. 0. 0. 0. 0. 0. 0.]\n",
      " [0. 0. 0. 0. 0. 0. 0. 0. 0. 0.]\n",
      " [0. 0. 0. 0. 0. 0. 0. 0. 0. 0.]\n",
      " [0. 0. 0. 0. 0. 0. 0. 0. 0. 0.]\n",
      " [0. 0. 0. 0. 0. 0. 0. 0. 0. 0.]\n",
      " [0. 0. 0. 0. 0. 0. 0. 0. 0. 0.]\n",
      " [0. 0. 0. 0. 0. 0. 0. 0. 0. 0.]\n",
      " [0. 0. 0. 0. 0. 0. 0. 0. 0. 0.]]\n"
     ]
    }
   ],
   "source": [
    "import numpy as np\n",
    "import scipy.linalg\n",
    "\n",
    "N = 10\n",
    "c = np.zeros((N,N))\n",
    "c[0,0] = 1\n",
    "M = np.zeros((N,N,N))\n",
    "np.fill_diagonal(M, 2)\n",
    "print(c)\n",
    "b = np.zeros((N,N))\n",
    "for j in range(N-1):\n",
    "    np.fill_diagonal(M[j,:,:], 2)\n",
    "    for i in range(N-1):\n",
    "        M[j,(i+1),i] = -1\n",
    "        M[j,i,(i+1)] = -1\n",
    "    print(scipy.linalg.solve(M[j,:,:], c)[:,j])\n",
    "#     b[:,j] = \n",
    "# M[0,1] = 0\n",
    "# M[N-1,N-2] = 0\n",
    "# M[0,0] = 1\n",
    "# print(M)\n",
    "print(b)\n",
    "\n"
   ]
  },
  {
   "cell_type": "code",
   "execution_count": null,
   "metadata": {},
   "outputs": [],
   "source": []
  },
  {
   "cell_type": "code",
   "execution_count": null,
   "metadata": {},
   "outputs": [],
   "source": []
  },
  {
   "cell_type": "code",
   "execution_count": null,
   "metadata": {},
   "outputs": [],
   "source": []
  }
 ],
 "metadata": {
  "kernelspec": {
   "display_name": "Python 3",
   "language": "python",
   "name": "python3"
  },
  "language_info": {
   "codemirror_mode": {
    "name": "ipython",
    "version": 3
   },
   "file_extension": ".py",
   "mimetype": "text/x-python",
   "name": "python",
   "nbconvert_exporter": "python",
   "pygments_lexer": "ipython3",
   "version": "3.6.7"
  },
  "varInspector": {
   "cols": {
    "lenName": 16,
    "lenType": 16,
    "lenVar": 40
   },
   "kernels_config": {
    "python": {
     "delete_cmd_postfix": "",
     "delete_cmd_prefix": "del ",
     "library": "var_list.py",
     "varRefreshCmd": "print(var_dic_list())"
    },
    "r": {
     "delete_cmd_postfix": ") ",
     "delete_cmd_prefix": "rm(",
     "library": "var_list.r",
     "varRefreshCmd": "cat(var_dic_list()) "
    }
   },
   "types_to_exclude": [
    "module",
    "function",
    "builtin_function_or_method",
    "instance",
    "_Feature"
   ],
   "window_display": false
  }
 },
 "nbformat": 4,
 "nbformat_minor": 2
}
