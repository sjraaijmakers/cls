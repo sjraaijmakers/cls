{
 "cells": [
  {
   "cell_type": "code",
   "execution_count": 85,
   "metadata": {},
   "outputs": [],
   "source": [
    "import matplotlib.pyplot as plt\n",
    "import numpy as np\n",
    "from numba import jit\n",
    "\n",
    "%matplotlib inline\n",
    "plt.rcParams['figure.figsize'] = [10, 6]\n",
    "plt.rcParams['axes.grid'] = True"
   ]
  },
  {
   "cell_type": "code",
   "execution_count": null,
   "metadata": {},
   "outputs": [],
   "source": [
    "@jit(nopython=True)\n",
    "def SOR(f, mask, N=50, epsilon=10e-5, omega=1):\n",
    "    if mask.shape[0] != N:\n",
    "         raise Exception(\"Mask and N have different dimensions\")  \n",
    "    \n",
    "    u = np.zeros((N, N))\n",
    "    u[0] = np.ones((1, N))\n",
    "\n",
    "    new = u\n",
    "    old = np.full((N, N), np.inf)\n",
    "    \n",
    "    iterations = 0\n",
    "\n",
    "    while(np.amax(np.abs(new - old)) >= epsilon):\n",
    "        old = np.copy(u) \n",
    "        for i in range(1, N-1):\n",
    "            for j in range(N):\n",
    "                ln = j - 1\n",
    "                rn = j + 1\n",
    "\n",
    "                # periodic boundaries\n",
    "                if j == 0:\n",
    "                    ln = N-1\n",
    "                elif j == N-1:\n",
    "                    rn = 0\n",
    "                    \n",
    "                if mask[i][j] == 0:\n",
    "                    u[i][j] = 0\n",
    "                else:                        \n",
    "                    u0 = old\n",
    "                    u[i][j] = (omega/4) * (u[i+1][j] + u[i-1][j] + u[i][rn] + u[i][ln]) + (1 - omega) * (u0[i][j])\n",
    "\n",
    "        new = u\n",
    "                \n",
    "        iterations += 1\n",
    "                \n",
    "    return u"
   ]
  },
  {
   "cell_type": "code",
   "execution_count": null,
   "metadata": {},
   "outputs": [],
   "source": [
    "def dla(mask, N=50, epsilon=10e-5, omega=1):\n",
    "    if mask.shape[0] != N:\n",
    "         raise Exception(\"Mask and N have different dimensions\")  \n",
    "    \n",
    "    u = np.zeros((N, N))\n",
    "    u[0] = np.ones((1, N))\n",
    "\n",
    "    new = u\n",
    "    old = np.full((N, N), np.inf)\n",
    "\n",
    "    while(np.amax(np.abs(new - old)) >= epsilon):\n",
    "        old = np.copy(u) \n",
    "        for i in range(N):\n",
    "            for j in range(N):\n",
    "                if i == 0:\n",
    "                    u[i] = np.ones((1, N))\n",
    "                elif i == N-1:\n",
    "                    u[N-1] = np.zeros((1, N))\n",
    "                else:\n",
    "                    if mask[i][j] == 1:\n",
    "                        ln = j - 1\n",
    "                        rn = j + 1\n",
    "            \n",
    "                        if j == 0:\n",
    "                            ln = N-1\n",
    "                        elif j == N-1:\n",
    "                            rn = 0\n",
    "                            \n",
    "                        u0 = old\n",
    "                        u[i][j] = (omega/4) * (u[i+1][j] + u[i-1][j] + u[i][rn] + u[i][ln]) + (1 - omega) * (u0[i][j])\n",
    "                        \n",
    "                if mask[i][j] == 0:\n",
    "                    bottom_neighbor = i+1,j\n",
    "                    top_neighbor = i-1, j\n",
    "                    \n",
    "                    if i == 0:\n",
    "                        top_neighbor = -1, -1\n",
    "                    elif i == N-1:\n",
    "                        bottom_neighbor = -1, -1\n",
    "                        \n",
    "                    left_neighbor = i, j-1\n",
    "                    right_neighbor = i, j+1\n",
    "                    \n",
    "                    if j == 0:\n",
    "                        left_neigbor = -1, -1\n",
    "                    elif j == N-1:\n",
    "                        right_neighbor = -1, -1\n",
    "                        \n",
    "                    \n",
    "                    neighbors = [right_neighbor, top_neighbor, left_neighbor, bottom_neighbor]\n",
    "\n",
    "                    sum_neighbors = 0\n",
    "                    \n",
    "                    for neighbor in neighbors:\n",
    "                        if neighbor != (-1, -1):\n",
    "                            sum_neighbors += u[neighbor]\n",
    "                    \n",
    "                    for neighbor in neighbors:\n",
    "                        if neighbor != (-1, -1):\n",
    "                            rnd = np.random.uniform()\n",
    "                            p_growth = u[neighbor] / sum_neighbors\n",
    "                            \n",
    "                            if rnd < p_growth:\n",
    "                                mask[neighbor] = 0\n",
    "                        \n",
    "                    u[i][j] = 0\n",
    "\n",
    "        new = u\n",
    "                \n",
    "    return u, mask"
   ]
  },
  {
   "cell_type": "code",
   "execution_count": 145,
   "metadata": {},
   "outputs": [],
   "source": [
    "def SOR(mask, N=50, epsilon=10e-5, omega=1):\n",
    "    if mask.shape[0] != N:\n",
    "         raise Exception(\"Mask and N have different dimensions\")  \n",
    "    \n",
    "    u = np.zeros((N, N))\n",
    "    u[0] = np.ones((1, N))\n",
    "\n",
    "    new = u\n",
    "    old = np.full((N, N), np.inf)\n",
    "\n",
    "    while(np.amax(np.abs(new - old)) >= epsilon):\n",
    "        old = np.copy(u) \n",
    "        for i in range(N):\n",
    "            for j in range(N):\n",
    "                if i == 0:\n",
    "                    u[i] = np.ones((1, N))\n",
    "                elif i == N-1:\n",
    "                    u[N-1] = np.zeros((1, N))\n",
    "                else:\n",
    "                    if mask[i][j] == 1:\n",
    "                        ln = j - 1\n",
    "                        rn = j + 1\n",
    "            \n",
    "                        if j == 0:\n",
    "                            ln = N-1\n",
    "                        elif j == N-1:\n",
    "                            rn = 0\n",
    "                            \n",
    "                        u0 = old\n",
    "                        u[i][j] = (omega/4) * (u[i+1][j] + u[i-1][j] + u[i][rn] + u[i][ln]) + (1 - omega) * (u0[i][j])\n",
    "                        \n",
    "                if mask[i][j] == 0:\n",
    "                    bottom_neighbor = i+1,j\n",
    "                    top_neighbor = i-1, j\n",
    "                    \n",
    "                    if i == 0:\n",
    "                        top_neighbor = -1, -1\n",
    "                    elif i == N-1:\n",
    "                        bottom_neighbor = -1, -1\n",
    "                        \n",
    "                    left_neighbor = i, j-1\n",
    "                    right_neighbor = i, j+1\n",
    "                    \n",
    "                    if j == 0:\n",
    "                        left_neigbor = -1, -1\n",
    "                    elif j == N-1:\n",
    "                        right_neighbor = -1, -1\n",
    "                        \n",
    "                    \n",
    "                    neighbors = [right_neighbor, top_neighbor, left_neighbor, bottom_neighbor]\n",
    "\n",
    "                    sum_neighbors = 0\n",
    "                    \n",
    "                    for neighbor in neighbors:\n",
    "                        if neighbor != (-1, -1):\n",
    "                            sum_neighbors += u[neighbor]\n",
    "                    \n",
    "                    for neighbor in neighbors:\n",
    "                        if neighbor != (-1, -1):\n",
    "                            rnd = np.random.uniform()\n",
    "                            p_growth = u[neighbor] / sum_neighbors\n",
    "                            \n",
    "                            if rnd < p_growth:\n",
    "                                mask[neighbor] = 0\n",
    "                        \n",
    "                    u[i][j] = 0\n",
    "\n",
    "        new = u\n",
    "                \n",
    "    return u, mask"
   ]
  },
  {
   "cell_type": "code",
   "execution_count": 146,
   "metadata": {},
   "outputs": [
    {
     "name": "stdout",
     "output_type": "stream",
     "text": [
      "[ 1.  1.  1.  1.  1.  1.  1.  1.  1.  1.  1.  1.  1.  1.  1.  1.  1.  1.\n",
      "  1.  1.  1.  1.  1.  1.  1.  0.  1.  1.  1.  1.  1.  1.  1.  1.  1.  1.\n",
      "  1.  1.  1.  1.  1.  1.  1.  1.  1.  1.  1.  1.  1.  1.]\n"
     ]
    }
   ],
   "source": [
    "N = 50\n",
    "mask = np.ones((N, N))\n",
    "mask[N-1][N//2] = 0\n",
    "print(mask[49])"
   ]
  },
  {
   "cell_type": "code",
   "execution_count": 150,
   "metadata": {},
   "outputs": [
    {
     "name": "stderr",
     "output_type": "stream",
     "text": [
      "/usr/local/lib/python3.6/dist-packages/ipykernel_launcher.py:61: RuntimeWarning: invalid value encountered in double_scalars\n"
     ]
    }
   ],
   "source": [
    "sor, new_mask = SOR(mask)"
   ]
  },
  {
   "cell_type": "code",
   "execution_count": 151,
   "metadata": {},
   "outputs": [
    {
     "data": {
      "text/plain": [
       "<matplotlib.image.AxesImage at 0x7efe719c6940>"
      ]
     },
     "execution_count": 151,
     "metadata": {},
     "output_type": "execute_result"
    },
    {
     "data": {
      "image/png": "[encoded data removed]",
      "text/plain": [
       "<matplotlib.figure.Figure at 0x7efe718dc978>"
      ]
     },
     "metadata": {
      "needs_background": "light"
     },
     "output_type": "display_data"
    }
   ],
   "source": [
    "plt.imshow(new_mask, interpolation=\"bicubic\", cmap=plt.get_cmap('hot'))"
   ]
  },
  {
   "cell_type": "code",
   "execution_count": 98,
   "metadata": {},
   "outputs": [
    {
     "name": "stdout",
     "output_type": "stream",
     "text": [
      "[None, 3, None]\n"
     ]
    }
   ],
   "source": [
    "k = [None, 3, None]\n",
    "print(k)"
   ]
  },
  {
   "cell_type": "code",
   "execution_count": null,
   "metadata": {},
   "outputs": [],
   "source": []
  },
  {
   "cell_type": "code",
   "execution_count": 172,
   "metadata": {},
   "outputs": [],
   "source": [
    "def SOR(u, mask, N=50, epsilon=10e-5, omega=1):\n",
    "    if mask.shape[0] != N:\n",
    "         raise Exception(\"Mask and N have different dimensions\")  \n",
    "\n",
    "    new = u\n",
    "    old = np.full((N, N), np.inf)\n",
    "    \n",
    "    iterations = 0\n",
    "\n",
    "    while(np.amax(np.abs(new - old)) >= epsilon):\n",
    "        old = np.copy(u) \n",
    "        for i in range(1, N-1):\n",
    "            for j in range(N):\n",
    "                ln = j - 1\n",
    "                rn = j + 1\n",
    "\n",
    "                # periodic boundaries\n",
    "                if j == 0:\n",
    "                    ln = N-1\n",
    "                elif j == N-1:\n",
    "                    rn = 0\n",
    "                    \n",
    "                if mask[i][j] == 0:\n",
    "                    u[i][j] = 0\n",
    "                else:                        \n",
    "                    u0 = old\n",
    "                    u[i][j] = (omega/4) * (u[i+1][j] + u[i-1][j] + u[i][rn] + u[i][ln]) + (1 - omega) * (u0[i][j])\n",
    "\n",
    "        new = u\n",
    "                \n",
    "        iterations += 1\n",
    "                \n",
    "    return u\n",
    "\n",
    "def DLA(sor, mask, N=50):\n",
    "    print(mask[N-1][N//2])\n",
    "    for i in range(N):\n",
    "        for j in range(N):\n",
    "            if mask[i][j] == 0:\n",
    "                left_neighbor = i, j-1\n",
    "                right_neighbor = i, j+1\n",
    "                top_neighbor = i-1, j\n",
    "                bottom_neighbor = i+1, j\n",
    "\n",
    "                if i == 0:\n",
    "                    top_neighbor = -1, -1\n",
    "                elif i == N-1:\n",
    "                    bottom_neighbor = -1, -1\n",
    "\n",
    "                if j == 0:\n",
    "                    left_neighbor = -1, -1\n",
    "                elif j == N-1:\n",
    "                    right_neighbor = -1, -1\n",
    "\n",
    "                neighbors = [right_neighbor, top_neighbor, left_neighbor, bottom_neighbor]\n",
    "                sum_neighbors = 0\n",
    "\n",
    "                for neighbor in neighbors:\n",
    "                    if neighbor != (-1, -1):\n",
    "                        sum_neighbors += sor[neighbor]\n",
    "\n",
    "                for neighbor in neighbors:\n",
    "                    rnd = np.random.uniform()\n",
    "                    p_growth = sor[neighbor] / sum_neighbors\n",
    "                    \n",
    "                    print(rnd, p_growth)\n",
    "                    \n",
    "                    if rnd < p_growth:\n",
    "                        sor[i][j] = 0\n",
    "                        mask[i][j] = 0\n",
    "                        \n",
    "        return sor, mask            "
   ]
  },
  {
   "cell_type": "code",
   "execution_count": 173,
   "metadata": {},
   "outputs": [
    {
     "name": "stdout",
     "output_type": "stream",
     "text": [
      "0.0\n",
      "0.0\n"
     ]
    },
    {
     "data": {
      "image/png": "[encoded data removed]",
      "text/plain": [
       "<matplotlib.figure.Figure at 0x7efe720c6be0>"
      ]
     },
     "metadata": {
      "needs_background": "light"
     },
     "output_type": "display_data"
    },
    {
     "name": "stdout",
     "output_type": "stream",
     "text": [
      "0.0\n",
      "0.0\n"
     ]
    },
    {
     "data": {
      "image/png": "[encoded data removed]",
      "text/plain": [
       "<matplotlib.figure.Figure at 0x7efe71f56940>"
      ]
     },
     "metadata": {
      "needs_background": "light"
     },
     "output_type": "display_data"
    }
   ],
   "source": [
    "u = np.zeros((N, N))\n",
    "u[0] = np.ones((1, N))\n",
    "\n",
    "N = 50\n",
    "mask = np.ones((N, N))\n",
    "mask[N-1][N//2] = 0\n",
    "\n",
    "for i in range(2):\n",
    "    u = SOR(u, mask)\n",
    "    print(mask[N-1][N//2])\n",
    "    u, mask = DLA(u, mask)    \n",
    "    \n",
    "    plt.imshow(mask)\n",
    "    plt.show()"
   ]
  },
  {
   "cell_type": "code",
   "execution_count": 157,
   "metadata": {},
   "outputs": [
    {
     "data": {
      "text/plain": [
       "<matplotlib.image.AxesImage at 0x7efe71cab748>"
      ]
     },
     "execution_count": 157,
     "metadata": {},
     "output_type": "execute_result"
    },
    {
     "data": {
      "image/png": "[encoded data removed]",
      "text/plain": [
       "<matplotlib.figure.Figure at 0x7efe7200acc0>"
      ]
     },
     "metadata": {
      "needs_background": "light"
     },
     "output_type": "display_data"
    }
   ],
   "source": [
    "plt.imshow(u)"
   ]
  },
  {
   "cell_type": "code",
   "execution_count": null,
   "metadata": {},
   "outputs": [],
   "source": []
  }
 ],
 "metadata": {
  "kernelspec": {
   "display_name": "Python 3",
   "language": "python",
   "name": "python3"
  },
  "language_info": {
   "codemirror_mode": {
    "name": "ipython",
    "version": 3
   },
   "file_extension": ".py",
   "mimetype": "text/x-python",
   "name": "python",
   "nbconvert_exporter": "python",
   "pygments_lexer": "ipython3",
   "version": "3.6.7"
  },
  "varInspector": {
   "cols": {
    "lenName": 16,
    "lenType": 16,
    "lenVar": 40
   },
   "kernels_config": {
    "python": {
     "delete_cmd_postfix": "",
     "delete_cmd_prefix": "del ",
     "library": "var_list.py",
     "varRefreshCmd": "print(var_dic_list())"
    },
    "r": {
     "delete_cmd_postfix": ") ",
     "delete_cmd_prefix": "rm(",
     "library": "var_list.r",
     "varRefreshCmd": "cat(var_dic_list()) "
    }
   },
   "types_to_exclude": [
    "module",
    "function",
    "builtin_function_or_method",
    "instance",
    "_Feature"
   ],
   "window_display": false
  }
 },
 "nbformat": 4,
 "nbformat_minor": 2
}
