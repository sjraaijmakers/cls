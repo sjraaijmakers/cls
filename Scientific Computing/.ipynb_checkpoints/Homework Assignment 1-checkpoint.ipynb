{
 "cells": [
  {
   "cell_type": "markdown",
   "metadata": {},
   "source": [
    "Please **submit this Jupyter notebook through Canvas** no later than **Monday November 5 12:59**, before the start of the lecture.\n",
    "\n",
    "Homework is in **groups of two**, and you are expected to hand in original work. Work that is copied from another group will not be accepted."
   ]
  },
  {
   "cell_type": "code",
   "execution_count": 2,
   "metadata": {},
   "outputs": [],
   "source": [
    "import numpy as np"
   ]
  },
  {
   "cell_type": "markdown",
   "metadata": {},
   "source": [
    "# Exercise 0\n",
    "Write down the names + student ID of the people in your group."
   ]
  },
  {
   "cell_type": "markdown",
   "metadata": {},
   "source": [
    "Nizar el Mahjoubi + 10642021, Steven Raaijmakers + 10804242"
   ]
  },
  {
   "cell_type": "markdown",
   "metadata": {},
   "source": [
    "-----\n",
    "# Exercise 1\n",
    "Consider the function $f(x) = \\tan(x)$. Because $\\tan(x) = \\sin(x) / \\cos(x)$, we can approximate $f(x)$ using Taylor approximations for $\\sin(x)$ and $\\cos(x)$:\n",
    "$$\n",
    "  \\sin(x) \\approx x - \\frac{1}{6} x^3, \\quad \\text{and} \\quad \\cos(x) \\approx 1 - \\frac{1}{2} x^2.\n",
    "$$\n",
    "This gives the approximation\n",
    "$$\n",
    "\\hat f(x) = \\frac{x - \\frac{1}{6} x^3}{1 - \\frac{1}{2} x^2}.\n",
    "$$"
   ]
  },
  {
   "cell_type": "markdown",
   "metadata": {},
   "source": [
    "## (a)\n",
    "Evaluate $f(x)$ and $\\hat f(x)$ at $x = 1$ and $x = 1.4$. Compute the absolute forward error and absolute backward error."
   ]
  },
  {
   "cell_type": "code",
   "execution_count": 3,
   "metadata": {},
   "outputs": [],
   "source": [
    "def afe(y_est, y_real):\n",
    "    return abs(y_est - y_real)\n",
    "\n",
    "def abe_tan(y_est, x):    \n",
    "    return np.arctan(y_est) - x\n",
    "\n",
    "def tan2(x):\n",
    "    return (x - (1/6) * x**3) / (1 - (1/2)*x**2)"
   ]
  },
  {
   "cell_type": "code",
   "execution_count": 4,
   "metadata": {},
   "outputs": [
    {
     "name": "stdout",
     "output_type": "stream",
     "text": [
      "tan(x) = 1.55740772465\n",
      "tan_est(x) = 1.6666666666666667\n",
      "absolute forward error: 0.109258942012\n",
      "absolute backward error: 0.0303768265243\n"
     ]
    }
   ],
   "source": [
    "x = 1\n",
    "y_est = tan2(x)\n",
    "y_real = np.tan(x)\n",
    "\n",
    "print(\"tan(x) = \" + str(y_real))\n",
    "print(\"tan_est(x) = \" + str(y_est))\n",
    "print(\"absolute forward error: \" + str(afe(y_est, y_real)))\n",
    "print(\"absolute backward error: \" + str(abe_tan(y_est, x)))"
   ]
  },
  {
   "cell_type": "code",
   "execution_count": 5,
   "metadata": {},
   "outputs": [
    {
     "name": "stdout",
     "output_type": "stream",
     "text": [
      "tan(x) = 5.79788371548\n",
      "tan_est(x) = 47.133333333333034\n",
      "absolute forward error: 41.3354496179\n",
      "absolute backward error: 0.149583102003\n"
     ]
    }
   ],
   "source": [
    "x = 1.4\n",
    "y_est = tan2(x)\n",
    "y_real = np.tan(x)\n",
    "\n",
    "print(\"tan(x) = \" + str(y_real))\n",
    "print(\"tan_est(x) = \" + str(y_est))\n",
    "print(\"absolute forward error: \" + str(afe(y_est, y_real)))\n",
    "print(\"absolute backward error: \" + str(abe_tan(y_est, x)))"
   ]
  },
  {
   "cell_type": "markdown",
   "metadata": {},
   "source": [
    "## (b)\n",
    "Ignore $\\hat f(x)$ for now. Compute the relative condition number of $f(x)$ near $x=1$ and near $x=1.4$."
   ]
  },
  {
   "cell_type": "code",
   "execution_count": 6,
   "metadata": {},
   "outputs": [],
   "source": [
    "def condition_number_tan(x_hat, x, func):\n",
    "    return abs((func(x_hat) - func(x)) / func(x)) / abs((x_hat - x)/x)"
   ]
  },
  {
   "cell_type": "code",
   "execution_count": 7,
   "metadata": {},
   "outputs": [
    {
     "name": "stdout",
     "output_type": "stream",
     "text": [
      "for x = 1, condition number is: 2.30946968191\n",
      "for x = 1.4, condition number is: 66.7265491996\n"
     ]
    }
   ],
   "source": [
    "x = 1\n",
    "y_est = tan2(x)\n",
    "x_hat = np.arctan(y_est)\n",
    "\n",
    "print(\"for x = \" + str(x) + \", condition number is: \" + str(condition_number_tan(x_hat, x, np.tan)))\n",
    "\n",
    "x = 1.4\n",
    "y_est = tan2(x)\n",
    "x_hat = np.arctan(y_est)\n",
    "\n",
    "print(\"for x = \" + str(x) + \", condition number is: \" + str(condition_number_tan(x_hat, x, np.tan)))"
   ]
  },
  {
   "cell_type": "markdown",
   "metadata": {},
   "source": [
    "## (c)\n",
    "Compute the relative condition number of $\\hat f(x)$ near $x=1$ and near $x=1.4$."
   ]
  },
  {
   "cell_type": "code",
   "execution_count": 8,
   "metadata": {},
   "outputs": [
    {
     "name": "stdout",
     "output_type": "stream",
     "text": [
      "for x = 1, condition number is: 2.78365181607\n",
      "for x = 1.4, condition number is: 10.2793683004\n"
     ]
    }
   ],
   "source": [
    "x = 1\n",
    "y_est = tan2(x)\n",
    "x_hat = np.arctan(y_est) \n",
    "\n",
    "print(\"for x = \" + str(x) + \", condition number is: \" + str(condition_number_tan(x_hat, x, tan2)))\n",
    "\n",
    "x = 1.4\n",
    "y_est = tan2(x)\n",
    "x_hat = np.arctan(y_est)\n",
    "\n",
    "print(\"for x = \" + str(x) + \", condition number is: \" + str(condition_number_tan(x_hat, x, tan2)))"
   ]
  },
  {
   "cell_type": "markdown",
   "metadata": {},
   "source": [
    "--------\n",
    "# Exercise 2\n",
    "Consider the following finite difference approximations of the second derivative of a function $f(x)$:\n",
    "$$\n",
    "\\text{Centered FD:} \\quad f''(x) \\approx \\frac{f(x+h) - 2f(x) + f(x-h)}{h^2},\n",
    "$$\n",
    "$$\n",
    "\\text{Forward FD:} \\quad f''(x) \\approx \\frac{f(x+2h) - 2f(x+h) + f(x)}{h^2}.\n",
    "$$"
   ]
  },
  {
   "cell_type": "markdown",
   "metadata": {},
   "source": [
    "## (a)\n",
    "Consider the function $f(x) = \\exp(-2x)$ evaluated at $x = 0.5$. Compute both finite difference approximations for the range $h \\in \\{1, 10^{-1}, \\ldots, 10^{-16}\\}$."
   ]
  },
  {
   "cell_type": "code",
   "execution_count": 9,
   "metadata": {},
   "outputs": [],
   "source": [
    "h = []\n",
    "\n",
    "for i in range(0, 17):\n",
    "    h.append(10**(-i))\n",
    "    \n",
    "def centered_fd(x, h):\n",
    "    return abs((f(x + h) - 2*f(x) + f(x - h)) / h**2)\n",
    "    \n",
    "def forward_fd(x, h):\n",
    "    return abs((f(x + 2*h) - 2*f(x + h) + f(x)) / h**2)"
   ]
  },
  {
   "cell_type": "code",
   "execution_count": 10,
   "metadata": {
    "scrolled": true
   },
   "outputs": [
    {
     "name": "stdout",
     "output_type": "stream",
     "text": [
      "h: 1, centered fd: 2.03231001448 , forwarded fd: 0.275043251435\n",
      "h: 0.1, centered fd: 1.47642936865 , forwarded fd: 1.20879812886\n",
      "h: 0.01, centered fd: 1.47156681593 , forwarded fd: 1.44242784066\n",
      "h: 0.001, centered fd: 1.47151825519 , forwarded fd: 1.46857815975\n",
      "h: 0.0001, centered fd: 1.47151776875 , forwarded fd: 1.47122349303\n",
      "h: 1e-05, centered fd: 1.47151790753 , forwarded fd: 1.47148737639\n",
      "h: 1e-06, centered fd: 1.47143408569 , forwarded fd: 1.47165613029\n",
      "h: 1e-07, centered fd: 1.47659662275 , forwarded fd: 1.45994327738\n",
      "h: 1e-08, centered fd: 0.555111512313 , forwarded fd: 2.77555756156\n",
      "h: 1e-09, centered fd: 0.0 , forwarded fd: 0.0\n",
      "h: 1e-10, centered fd: 5551.11512313 , forwarded fd: 5551.11512313\n",
      "h: 1e-11, centered fd: 555111.512313 , forwarded fd: 555111.512313\n",
      "h: 1e-12, centered fd: 0.0 , forwarded fd: 0.0\n",
      "h: 1e-13, centered fd: 5551115123.13 , forwarded fd: 11102230246.3\n",
      "h: 1e-14, centered fd: 555111512313.0 , forwarded fd: 555111512313.0\n",
      "h: 1e-15, centered fd: 0.0 , forwarded fd: 5.55111512313e+13\n",
      "h: 1e-16, centered fd: 5.55111512313e+15 , forwarded fd: 5.55111512313e+15\n"
     ]
    }
   ],
   "source": [
    "def f(x):\n",
    "    return np.exp(-2*x)\n",
    "\n",
    "x = 0.5\n",
    "\n",
    "\n",
    "for i in h:\n",
    "    print(\"h: \" + str(i) + \", centered fd: \" + str(centered_fd(x, i)) + \" , forwarded fd: \" + str(forward_fd(x, i)))"
   ]
  },
  {
   "cell_type": "markdown",
   "metadata": {},
   "source": [
    "## (b)\n",
    "Using the true second derivative $f''(x)$ at $x=0.5$, plot the total error of the two approximations as a function of $h$, like Figure 1.1 of the book by Heath."
   ]
  },
  {
   "cell_type": "code",
   "execution_count": 18,
   "metadata": {},
   "outputs": [
    {
     "data": {
      "text/plain": [
       "<matplotlib.axes._subplots.AxesSubplot at 0x7fdff0588780>"
      ]
     },
     "execution_count": 18,
     "metadata": {},
     "output_type": "execute_result"
    },
    {
     "data": {
      "image/png": "[encoded data removed]",
      "text/plain": [
       "<matplotlib.figure.Figure at 0x7fdff05fa828>"
      ]
     },
     "metadata": {},
     "output_type": "display_data"
    },
    {
     "data": {
      "image/png": "[encoded data removed]",
      "text/plain": [
       "<matplotlib.figure.Figure at 0x7fdff0596da0>"
      ]
     },
     "metadata": {},
     "output_type": "display_data"
    }
   ],
   "source": [
    "import matplotlib.pyplot as plt\n",
    "\n",
    "h = []\n",
    "\n",
    "for i in range(0, 17):\n",
    "    h.append(10**(-i))\n",
    "\n",
    "def f(x):\n",
    "    return np.exp(-2*x)\n",
    "\n",
    "def second_df(x):\n",
    "    return 4*np.exp(-2*x)\n",
    "\n",
    "error1_centered = []\n",
    "error2_centered = []\n",
    "error1_forward = []\n",
    "error2_forward = []\n",
    "total_error_centered = []\n",
    "total_error_forward = []\n",
    "steps = []\n",
    "\n",
    "def trun_error(x, h):\n",
    "    te = (f(x + h) - f(x - h)/2*h)\n",
    "    return te\n",
    "\n",
    "def rounding_error_centered(x,h):\n",
    "    re = second_df(x) - centered_fd(x, h)\n",
    "    return re\n",
    "\n",
    "def rounding_error_forward(x,h):\n",
    "    re = second_df(x) - forward_fd(x, h)\n",
    "    return re\n",
    "\n",
    "def plot_errors(steps, error1, error2, error3, a, title):\n",
    "    fig = plt.figure(facecolor='w')\n",
    "    ax = fig.add_subplot(111, facecolor='#dddddd', axisbelow=True)\n",
    "    ax.semilogy(steps, error1, 'b', alpha=0.5, lw=2, label='Truncation Error')\n",
    "    ax.semilogy(steps, error2, 'r', alpha=0.5, lw=2, label='Rounding Error')\n",
    "    ax.semilogy(steps, error3, 'g', alpha=0.5, lw=2, label='Computational Error')\n",
    "    ax.set_xlabel('Steps')\n",
    "    ax.set_ylabel('Error')\n",
    "    ax.yaxis.set_tick_params(length=0)\n",
    "    ax.xaxis.set_tick_params(length=0)\n",
    "    ax.set_title(title)\n",
    "    ax.grid(b=True, which='major', c='w', lw=2, ls='-')\n",
    "    legend = ax.legend()\n",
    "    legend.get_frame().set_alpha(0.5)\n",
    "    for spine in ('top', 'right', 'bottom', 'left'):\n",
    "        ax.spines[spine].set_visible(False)\n",
    "    if a == True:\n",
    "        return ax\n",
    "    else:\n",
    "        plt.show()\n",
    "\n",
    "j=0\n",
    "for i in h:\n",
    "    error1_forward.append(abs(trun_error(x, i)))\n",
    "    error2_forward.append(abs(rounding_error_forward(x, i)))\n",
    "    total_error_forward.append(abs(rounding_error_forward(x, i)) + abs(trun_error(x, i)))\n",
    "    error1_centered.append(abs(trun_error(x, i)))\n",
    "    error2_centered.append(abs(rounding_error_centered(x, i)))\n",
    "    total_error_centered.append(abs(rounding_error_centered(x, i)) + abs(trun_error(x, i)))\n",
    "    steps.append(j)\n",
    "    j += 1\n",
    "    \n",
    "plot_errors(steps, error1_centered, error2_centered, total_error_centered, True, \"Centered Axproximation Error\")\n",
    "    \n",
    "plot_errors(steps, error1_forward, error2_forward, total_error_forward, True, \"Forward Axproximation Error\")"
   ]
  },
  {
   "cell_type": "markdown",
   "metadata": {},
   "source": [
    "## (c)\n",
    "Explain, in words, what you see. How do these approximations compare?"
   ]
  },
  {
   "cell_type": "markdown",
   "metadata": {},
   "source": [
    "As we can see in the above graphs, the forward approximation reveals a much larger error than the centered approximation method. Since there is a tradeoff between the truncation error and the rounding error in choosing the step size h, both approximation reveal significant errors in the total computational error. "
   ]
  },
  {
   "cell_type": "markdown",
   "metadata": {},
   "source": [
    "----\n",
    "# Exercise 3 (Computer exercise 1.13 from the book)\n",
    "If an amount $a$ is invested at interest rate $r$ compounded $n$ times per year, then the final value $f$ at the end of one year is given by\n",
    "$$\n",
    "  f = a (1 + r/n)^n.\n",
    "$$\n",
    "This is the familiar formula for _compound interest_. When simple interest, $n=1$. Typically, compounding is done quarterly ($n=4$) or daily ($n=365$). Obviously, the more frequent the compounding, the greater the final amount. But how much difference does this frequency actually make?"
   ]
  },
  {
   "cell_type": "markdown",
   "metadata": {},
   "source": [
    "## (a)\n",
    "Write a program that implements the compound interest formula. Test your program using an initial investment of $a=100$, interest rate of 5 percent (so $r=0.05$), and the following values for $n$: $1, 4, 12, 365$.\n",
    "Do not use Pythons `pow` function, but compute $f$ as $a (1 + r/n) \\cdot (1+r/n) \\cdot \\ldots \\cdot (1+r/n)$."
   ]
  },
  {
   "cell_type": "code",
   "execution_count": 15,
   "metadata": {},
   "outputs": [
    {
     "name": "stdout",
     "output_type": "stream",
     "text": [
      "n: 1, compound interest: 105.0\n",
      "n: 4, compound interest: 105.09453369140624\n",
      "n: 12, compound interest: 105.11618978817329\n",
      "n: 365, compound interest: 105.12674964674483\n"
     ]
    }
   ],
   "source": [
    "def compound_interest(a, r, n):\n",
    "    tmp = a\n",
    "    for i in range(n):\n",
    "        tmp *= (1 + r/n)\n",
    "    return tmp\n",
    "\n",
    "a = 100\n",
    "r = 0.05\n",
    "ns = [1, 4, 12, 365]\n",
    "\n",
    "for n in ns:\n",
    "    print(\"n: \" + str(n) + \", compound interest: \" + str(compound_interest(a, r, n)))"
   ]
  },
  {
   "cell_type": "markdown",
   "metadata": {},
   "source": [
    "## (b)\n",
    "We can rewrite $f$ as $f = a \\exp(n \\log(1 + r/n))$. Using this formula, do the same as in (a)."
   ]
  },
  {
   "cell_type": "code",
   "execution_count": 16,
   "metadata": {},
   "outputs": [
    {
     "name": "stdout",
     "output_type": "stream",
     "text": [
      "n: 1, compound interest: 105.0\n",
      "n: 4, compound interest: 105.094533691\n",
      "n: 12, compound interest: 105.116189788\n",
      "n: 365, compound interest: 105.126749647\n"
     ]
    }
   ],
   "source": [
    "def compound_interest2(a, r, n):\n",
    "    return a * np.exp(n * np.log(1 + r/n))\n",
    "\n",
    "for n in ns:\n",
    "    print(\"n: \" + str(n) + \", compound interest: \" + str(compound_interest2(a, r, n)))"
   ]
  },
  {
   "cell_type": "markdown",
   "metadata": {},
   "source": [
    "## (c)\n",
    "Can you find a value of $n$ such that the formula of (a) becomes unstable? Explain this phenomenon in words."
   ]
  },
  {
   "cell_type": "code",
   "execution_count": 1,
   "metadata": {},
   "outputs": [
    {
     "ename": "NameError",
     "evalue": "name 'compound_interest' is not defined",
     "output_type": "error",
     "traceback": [
      "\u001b[0;31m---------------------------------------------------------------------------\u001b[0m",
      "\u001b[0;31mNameError\u001b[0m                                 Traceback (most recent call last)",
      "\u001b[0;32m<ipython-input-1-3d77d93e2e27>\u001b[0m in \u001b[0;36m<module>\u001b[0;34m()\u001b[0m\n\u001b[1;32m      9\u001b[0m \u001b[0;34m\u001b[0m\u001b[0m\n\u001b[1;32m     10\u001b[0m \u001b[0;32mfor\u001b[0m \u001b[0mn\u001b[0m \u001b[0;32min\u001b[0m \u001b[0mns\u001b[0m\u001b[0;34m:\u001b[0m\u001b[0;34m\u001b[0m\u001b[0;34m\u001b[0m\u001b[0m\n\u001b[0;32m---> 11\u001b[0;31m     \u001b[0mc1\u001b[0m \u001b[0;34m=\u001b[0m \u001b[0mcompound_interest\u001b[0m\u001b[0;34m(\u001b[0m\u001b[0ma\u001b[0m\u001b[0;34m,\u001b[0m \u001b[0mr\u001b[0m\u001b[0;34m,\u001b[0m \u001b[0mn\u001b[0m\u001b[0;34m)\u001b[0m\u001b[0;34m\u001b[0m\u001b[0;34m\u001b[0m\u001b[0m\n\u001b[0m\u001b[1;32m     12\u001b[0m     \u001b[0mc2\u001b[0m \u001b[0;34m=\u001b[0m \u001b[0mcompound_interest2\u001b[0m\u001b[0;34m(\u001b[0m\u001b[0ma\u001b[0m\u001b[0;34m,\u001b[0m \u001b[0mr\u001b[0m\u001b[0;34m,\u001b[0m \u001b[0mn\u001b[0m\u001b[0;34m)\u001b[0m\u001b[0;34m\u001b[0m\u001b[0;34m\u001b[0m\u001b[0m\n\u001b[1;32m     13\u001b[0m     \u001b[0mprint\u001b[0m\u001b[0;34m(\u001b[0m\u001b[0;34m\"finished \"\u001b[0m \u001b[0;34m+\u001b[0m \u001b[0mstr\u001b[0m\u001b[0;34m(\u001b[0m\u001b[0mn\u001b[0m\u001b[0;34m)\u001b[0m\u001b[0;34m)\u001b[0m\u001b[0;34m\u001b[0m\u001b[0;34m\u001b[0m\u001b[0m\n",
      "\u001b[0;31mNameError\u001b[0m: name 'compound_interest' is not defined"
     ]
    }
   ],
   "source": [
    "import matplotlib.pyplot as plt\n",
    "%matplotlib inline\n",
    "\n",
    "a = 100\n",
    "r = 0.05\n",
    "\n",
    "ns = [10**10, 10**11, 10**12]\n",
    "errors = []\n",
    "\n",
    "for n in ns:\n",
    "    c1 = compound_interest(a, r, n)\n",
    "    c2 = compound_interest2(a, r, n)\n",
    "    print(\"finished \" + str(n))\n",
    "    errors.append(c2 - c1)"
   ]
  },
  {
   "cell_type": "code",
   "execution_count": 19,
   "metadata": {},
   "outputs": [
    {
     "name": "stdout",
     "output_type": "stream",
     "text": [
      "[]\n"
     ]
    }
   ],
   "source": [
    "print(np.abs(errors))"
   ]
  },
  {
   "cell_type": "markdown",
   "metadata": {},
   "source": [
    "The formula in A gives a larger error due to the computer rounding up, since it cannot use infinite space (probably only 128 bytes) on the computer. However the exponent doesn't experience this behaviour and therefore has a more correct outcome. Therefore A becomes more unstable if N grows. So taking a value for N which is very big (like  1012 ) will give a significant larger error between B and A."
   ]
  },
  {
   "cell_type": "code",
   "execution_count": null,
   "metadata": {},
   "outputs": [],
   "source": []
  }
 ],
 "metadata": {
  "kernelspec": {
   "display_name": "Python 3",
   "language": "python",
   "name": "python3"
  },
  "language_info": {
   "codemirror_mode": {
    "name": "ipython",
    "version": 3
   },
   "file_extension": ".py",
   "mimetype": "text/x-python",
   "name": "python",
   "nbconvert_exporter": "python",
   "pygments_lexer": "ipython3",
   "version": "3.6.7"
  },
  "varInspector": {
   "cols": {
    "lenName": 16,
    "lenType": 16,
    "lenVar": 40
   },
   "kernels_config": {
    "python": {
     "delete_cmd_postfix": "",
     "delete_cmd_prefix": "del ",
     "library": "var_list.py",
     "varRefreshCmd": "print(var_dic_list())"
    },
    "r": {
     "delete_cmd_postfix": ") ",
     "delete_cmd_prefix": "rm(",
     "library": "var_list.r",
     "varRefreshCmd": "cat(var_dic_list()) "
    }
   },
   "types_to_exclude": [
    "module",
    "function",
    "builtin_function_or_method",
    "instance",
    "_Feature"
   ],
   "window_display": false
  }
 },
 "nbformat": 4,
 "nbformat_minor": 2
}
